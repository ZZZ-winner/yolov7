{
 "cells": [
  {
   "cell_type": "code",
   "execution_count": 17,
   "id": "5a01d08d",
   "metadata": {},
   "outputs": [
    {
     "name": "stdout",
     "output_type": "stream",
     "text": [
      "[Errno 2] No such file or directory: 'yolov7'\n",
      "/Users/nianaiyang/Downloads/pljs/yolov7/weights\n"
     ]
    }
   ],
   "source": [
    "%cd yolov7"
   ]
  },
  {
   "cell_type": "code",
   "execution_count": 6,
   "id": "82ffc343",
   "metadata": {},
   "outputs": [
    {
     "name": "stdout",
     "output_type": "stream",
     "text": [
      "Requirement already satisfied: matplotlib>=3.2.2 in /Users/nianaiyang/anaconda3/lib/python3.10/site-packages (from -r requirements.txt (line 4)) (3.8.0)\n",
      "Requirement already satisfied: numpy<1.24.0,>=1.18.5 in /Users/nianaiyang/anaconda3/lib/python3.10/site-packages (from -r requirements.txt (line 5)) (1.23.5)\n",
      "Requirement already satisfied: opencv-python>=4.1.1 in /Users/nianaiyang/anaconda3/lib/python3.10/site-packages (from -r requirements.txt (line 6)) (4.8.1.78)\n",
      "Requirement already satisfied: Pillow>=7.1.2 in /Users/nianaiyang/anaconda3/lib/python3.10/site-packages (from -r requirements.txt (line 7)) (10.0.1)\n",
      "Requirement already satisfied: PyYAML>=5.3.1 in /Users/nianaiyang/anaconda3/lib/python3.10/site-packages (from -r requirements.txt (line 8)) (6.0.1)\n",
      "Requirement already satisfied: requests>=2.23.0 in /Users/nianaiyang/anaconda3/lib/python3.10/site-packages (from -r requirements.txt (line 9)) (2.31.0)\n",
      "Requirement already satisfied: scipy>=1.4.1 in /Users/nianaiyang/anaconda3/lib/python3.10/site-packages (from -r requirements.txt (line 10)) (1.11.3)\n",
      "Requirement already satisfied: torch!=1.12.0,>=1.7.0 in /Users/nianaiyang/anaconda3/lib/python3.10/site-packages (from -r requirements.txt (line 11)) (2.1.2)\n",
      "Requirement already satisfied: torchvision!=0.13.0,>=0.8.1 in /Users/nianaiyang/anaconda3/lib/python3.10/site-packages (from -r requirements.txt (line 12)) (0.16.2)\n",
      "Requirement already satisfied: tqdm>=4.41.0 in /Users/nianaiyang/anaconda3/lib/python3.10/site-packages (from -r requirements.txt (line 13)) (4.65.0)\n",
      "Requirement already satisfied: protobuf<4.21.3 in /Users/nianaiyang/anaconda3/lib/python3.10/site-packages (from -r requirements.txt (line 14)) (3.20.3)\n",
      "Requirement already satisfied: tensorboard>=2.4.1 in /Users/nianaiyang/anaconda3/lib/python3.10/site-packages (from -r requirements.txt (line 17)) (2.11.0)\n",
      "Requirement already satisfied: pandas>=1.1.4 in /Users/nianaiyang/anaconda3/lib/python3.10/site-packages (from -r requirements.txt (line 21)) (2.1.1)\n",
      "Requirement already satisfied: seaborn>=0.11.0 in /Users/nianaiyang/anaconda3/lib/python3.10/site-packages (from -r requirements.txt (line 22)) (0.13.0)\n",
      "Requirement already satisfied: ipython in /Users/nianaiyang/anaconda3/lib/python3.10/site-packages (from -r requirements.txt (line 34)) (8.15.0)\n",
      "Requirement already satisfied: psutil in /Users/nianaiyang/anaconda3/lib/python3.10/site-packages (from -r requirements.txt (line 35)) (5.9.0)\n",
      "Requirement already satisfied: thop in /Users/nianaiyang/anaconda3/lib/python3.10/site-packages (from -r requirements.txt (line 36)) (0.1.1.post2209072238)\n",
      "Requirement already satisfied: kiwisolver>=1.0.1 in /Users/nianaiyang/anaconda3/lib/python3.10/site-packages (from matplotlib>=3.2.2->-r requirements.txt (line 4)) (1.4.4)\n",
      "Requirement already satisfied: packaging>=20.0 in /Users/nianaiyang/anaconda3/lib/python3.10/site-packages (from matplotlib>=3.2.2->-r requirements.txt (line 4)) (23.1)\n",
      "Requirement already satisfied: pyparsing>=2.3.1 in /Users/nianaiyang/anaconda3/lib/python3.10/site-packages (from matplotlib>=3.2.2->-r requirements.txt (line 4)) (3.0.9)\n",
      "Requirement already satisfied: fonttools>=4.22.0 in /Users/nianaiyang/anaconda3/lib/python3.10/site-packages (from matplotlib>=3.2.2->-r requirements.txt (line 4)) (4.25.0)\n",
      "Requirement already satisfied: contourpy>=1.0.1 in /Users/nianaiyang/anaconda3/lib/python3.10/site-packages (from matplotlib>=3.2.2->-r requirements.txt (line 4)) (1.0.5)\n",
      "Requirement already satisfied: python-dateutil>=2.7 in /Users/nianaiyang/anaconda3/lib/python3.10/site-packages (from matplotlib>=3.2.2->-r requirements.txt (line 4)) (2.8.2)\n",
      "Requirement already satisfied: cycler>=0.10 in /Users/nianaiyang/anaconda3/lib/python3.10/site-packages (from matplotlib>=3.2.2->-r requirements.txt (line 4)) (0.11.0)\n",
      "Requirement already satisfied: urllib3<3,>=1.21.1 in /Users/nianaiyang/anaconda3/lib/python3.10/site-packages (from requests>=2.23.0->-r requirements.txt (line 9)) (1.26.18)\n",
      "Requirement already satisfied: idna<4,>=2.5 in /Users/nianaiyang/anaconda3/lib/python3.10/site-packages (from requests>=2.23.0->-r requirements.txt (line 9)) (3.4)\n",
      "Requirement already satisfied: certifi>=2017.4.17 in /Users/nianaiyang/anaconda3/lib/python3.10/site-packages (from requests>=2.23.0->-r requirements.txt (line 9)) (2023.7.22)\n",
      "Requirement already satisfied: charset-normalizer<4,>=2 in /Users/nianaiyang/anaconda3/lib/python3.10/site-packages (from requests>=2.23.0->-r requirements.txt (line 9)) (2.0.4)\n",
      "Requirement already satisfied: jinja2 in /Users/nianaiyang/anaconda3/lib/python3.10/site-packages (from torch!=1.12.0,>=1.7.0->-r requirements.txt (line 11)) (3.1.2)\n",
      "Requirement already satisfied: fsspec in /Users/nianaiyang/anaconda3/lib/python3.10/site-packages (from torch!=1.12.0,>=1.7.0->-r requirements.txt (line 11)) (2023.12.2)\n",
      "Requirement already satisfied: typing-extensions in /Users/nianaiyang/anaconda3/lib/python3.10/site-packages (from torch!=1.12.0,>=1.7.0->-r requirements.txt (line 11)) (4.7.1)\n",
      "Requirement already satisfied: sympy in /Users/nianaiyang/anaconda3/lib/python3.10/site-packages (from torch!=1.12.0,>=1.7.0->-r requirements.txt (line 11)) (1.11.1)\n",
      "Requirement already satisfied: networkx in /Users/nianaiyang/anaconda3/lib/python3.10/site-packages (from torch!=1.12.0,>=1.7.0->-r requirements.txt (line 11)) (3.2.1)\n",
      "Requirement already satisfied: filelock in /Users/nianaiyang/anaconda3/lib/python3.10/site-packages (from torch!=1.12.0,>=1.7.0->-r requirements.txt (line 11)) (3.9.0)\n",
      "Requirement already satisfied: absl-py>=0.4 in /Users/nianaiyang/anaconda3/lib/python3.10/site-packages (from tensorboard>=2.4.1->-r requirements.txt (line 17)) (1.4.0)\n",
      "Requirement already satisfied: google-auth-oauthlib<0.5,>=0.4.1 in /Users/nianaiyang/anaconda3/lib/python3.10/site-packages (from tensorboard>=2.4.1->-r requirements.txt (line 17)) (0.4.4)\n",
      "Requirement already satisfied: markdown>=2.6.8 in /Users/nianaiyang/anaconda3/lib/python3.10/site-packages (from tensorboard>=2.4.1->-r requirements.txt (line 17)) (3.4.1)\n",
      "Requirement already satisfied: google-auth<3,>=1.6.3 in /Users/nianaiyang/anaconda3/lib/python3.10/site-packages (from tensorboard>=2.4.1->-r requirements.txt (line 17)) (2.22.0)\n",
      "Requirement already satisfied: werkzeug>=1.0.1 in /Users/nianaiyang/anaconda3/lib/python3.10/site-packages (from tensorboard>=2.4.1->-r requirements.txt (line 17)) (2.2.3)\n",
      "Requirement already satisfied: grpcio>=1.24.3 in /Users/nianaiyang/anaconda3/lib/python3.10/site-packages (from tensorboard>=2.4.1->-r requirements.txt (line 17)) (1.42.0)\n",
      "Requirement already satisfied: wheel>=0.26 in /Users/nianaiyang/anaconda3/lib/python3.10/site-packages (from tensorboard>=2.4.1->-r requirements.txt (line 17)) (0.35.1)\n",
      "Requirement already satisfied: tensorboard-data-server<0.7.0,>=0.6.0 in /Users/nianaiyang/anaconda3/lib/python3.10/site-packages (from tensorboard>=2.4.1->-r requirements.txt (line 17)) (0.6.1)\n",
      "Requirement already satisfied: setuptools>=41.0.0 in /Users/nianaiyang/anaconda3/lib/python3.10/site-packages (from tensorboard>=2.4.1->-r requirements.txt (line 17)) (65.6.3)\n",
      "Requirement already satisfied: tensorboard-plugin-wit>=1.6.0 in /Users/nianaiyang/anaconda3/lib/python3.10/site-packages (from tensorboard>=2.4.1->-r requirements.txt (line 17)) (1.8.1)\n",
      "Requirement already satisfied: tzdata>=2022.1 in /Users/nianaiyang/anaconda3/lib/python3.10/site-packages (from pandas>=1.1.4->-r requirements.txt (line 21)) (2023.3)\n",
      "Requirement already satisfied: pytz>=2020.1 in /Users/nianaiyang/anaconda3/lib/python3.10/site-packages (from pandas>=1.1.4->-r requirements.txt (line 21)) (2023.3.post1)\n",
      "Requirement already satisfied: prompt-toolkit!=3.0.37,<3.1.0,>=3.0.30 in /Users/nianaiyang/anaconda3/lib/python3.10/site-packages (from ipython->-r requirements.txt (line 34)) (3.0.36)\n",
      "Requirement already satisfied: pexpect>4.3 in /Users/nianaiyang/anaconda3/lib/python3.10/site-packages (from ipython->-r requirements.txt (line 34)) (4.8.0)\n",
      "Requirement already satisfied: pickleshare in /Users/nianaiyang/anaconda3/lib/python3.10/site-packages (from ipython->-r requirements.txt (line 34)) (0.7.5)\n",
      "Requirement already satisfied: jedi>=0.16 in /Users/nianaiyang/anaconda3/lib/python3.10/site-packages (from ipython->-r requirements.txt (line 34)) (0.18.1)\n",
      "Requirement already satisfied: stack-data in /Users/nianaiyang/anaconda3/lib/python3.10/site-packages (from ipython->-r requirements.txt (line 34)) (0.2.0)\n",
      "Requirement already satisfied: exceptiongroup in /Users/nianaiyang/anaconda3/lib/python3.10/site-packages (from ipython->-r requirements.txt (line 34)) (1.0.4)\n",
      "Requirement already satisfied: appnope in /Users/nianaiyang/anaconda3/lib/python3.10/site-packages (from ipython->-r requirements.txt (line 34)) (0.1.2)\n",
      "Requirement already satisfied: matplotlib-inline in /Users/nianaiyang/anaconda3/lib/python3.10/site-packages (from ipython->-r requirements.txt (line 34)) (0.1.6)\n"
     ]
    },
    {
     "name": "stdout",
     "output_type": "stream",
     "text": [
      "Requirement already satisfied: backcall in /Users/nianaiyang/anaconda3/lib/python3.10/site-packages (from ipython->-r requirements.txt (line 34)) (0.2.0)\n",
      "Requirement already satisfied: pygments>=2.4.0 in /Users/nianaiyang/anaconda3/lib/python3.10/site-packages (from ipython->-r requirements.txt (line 34)) (2.15.1)\n",
      "Requirement already satisfied: traitlets>=5 in /Users/nianaiyang/anaconda3/lib/python3.10/site-packages (from ipython->-r requirements.txt (line 34)) (5.7.1)\n",
      "Requirement already satisfied: decorator in /Users/nianaiyang/anaconda3/lib/python3.10/site-packages (from ipython->-r requirements.txt (line 34)) (5.1.1)\n",
      "Requirement already satisfied: cachetools<6.0,>=2.0.0 in /Users/nianaiyang/anaconda3/lib/python3.10/site-packages (from google-auth<3,>=1.6.3->tensorboard>=2.4.1->-r requirements.txt (line 17)) (4.2.2)\n",
      "Requirement already satisfied: six>=1.9.0 in /Users/nianaiyang/anaconda3/lib/python3.10/site-packages (from google-auth<3,>=1.6.3->tensorboard>=2.4.1->-r requirements.txt (line 17)) (1.16.0)\n",
      "Requirement already satisfied: pyasn1-modules>=0.2.1 in /Users/nianaiyang/anaconda3/lib/python3.10/site-packages (from google-auth<3,>=1.6.3->tensorboard>=2.4.1->-r requirements.txt (line 17)) (0.2.8)\n",
      "Requirement already satisfied: rsa<5,>=3.1.4 in /Users/nianaiyang/anaconda3/lib/python3.10/site-packages (from google-auth<3,>=1.6.3->tensorboard>=2.4.1->-r requirements.txt (line 17)) (4.7.2)\n",
      "Requirement already satisfied: requests-oauthlib>=0.7.0 in /Users/nianaiyang/anaconda3/lib/python3.10/site-packages (from google-auth-oauthlib<0.5,>=0.4.1->tensorboard>=2.4.1->-r requirements.txt (line 17)) (1.3.0)\n",
      "Requirement already satisfied: parso<0.9.0,>=0.8.0 in /Users/nianaiyang/anaconda3/lib/python3.10/site-packages (from jedi>=0.16->ipython->-r requirements.txt (line 34)) (0.8.3)\n",
      "Requirement already satisfied: ptyprocess>=0.5 in /Users/nianaiyang/anaconda3/lib/python3.10/site-packages (from pexpect>4.3->ipython->-r requirements.txt (line 34)) (0.7.0)\n",
      "Requirement already satisfied: wcwidth in /Users/nianaiyang/anaconda3/lib/python3.10/site-packages (from prompt-toolkit!=3.0.37,<3.1.0,>=3.0.30->ipython->-r requirements.txt (line 34)) (0.2.5)\n",
      "Requirement already satisfied: MarkupSafe>=2.1.1 in /Users/nianaiyang/anaconda3/lib/python3.10/site-packages (from werkzeug>=1.0.1->tensorboard>=2.4.1->-r requirements.txt (line 17)) (2.1.1)\n",
      "Requirement already satisfied: pure-eval in /Users/nianaiyang/anaconda3/lib/python3.10/site-packages (from stack-data->ipython->-r requirements.txt (line 34)) (0.2.2)\n",
      "Requirement already satisfied: executing in /Users/nianaiyang/anaconda3/lib/python3.10/site-packages (from stack-data->ipython->-r requirements.txt (line 34)) (0.8.3)\n",
      "Requirement already satisfied: asttokens in /Users/nianaiyang/anaconda3/lib/python3.10/site-packages (from stack-data->ipython->-r requirements.txt (line 34)) (2.0.5)\n",
      "Requirement already satisfied: mpmath>=0.19 in /Users/nianaiyang/anaconda3/lib/python3.10/site-packages (from sympy->torch!=1.12.0,>=1.7.0->-r requirements.txt (line 11)) (1.3.0)\n",
      "Requirement already satisfied: pyasn1<0.5.0,>=0.4.6 in /Users/nianaiyang/anaconda3/lib/python3.10/site-packages (from pyasn1-modules>=0.2.1->google-auth<3,>=1.6.3->tensorboard>=2.4.1->-r requirements.txt (line 17)) (0.4.8)\n",
      "Requirement already satisfied: oauthlib>=3.0.0 in /Users/nianaiyang/anaconda3/lib/python3.10/site-packages (from requests-oauthlib>=0.7.0->google-auth-oauthlib<0.5,>=0.4.1->tensorboard>=2.4.1->-r requirements.txt (line 17)) (3.2.2)\n"
     ]
    }
   ],
   "source": [
    "!pip install -r requirements.txt"
   ]
  },
  {
   "cell_type": "code",
   "execution_count": 8,
   "id": "12f25534",
   "metadata": {},
   "outputs": [],
   "source": [
    "%mkdir weights   # 创建文件夹"
   ]
  },
  {
   "cell_type": "code",
   "execution_count": 9,
   "id": "14440e86",
   "metadata": {},
   "outputs": [
    {
     "name": "stdout",
     "output_type": "stream",
     "text": [
      "/Users/nianaiyang/Downloads/pljs/yolov7/weights\n"
     ]
    }
   ],
   "source": [
    "%cd weights"
   ]
  },
  {
   "cell_type": "code",
   "execution_count": 13,
   "id": "48457532",
   "metadata": {},
   "outputs": [
    {
     "name": "stdout",
     "output_type": "stream",
     "text": [
      "[Errno 2] No such file or directory: 'yolov7'\n",
      "/Users/nianaiyang/Downloads/pljs/yolov7/weights\n"
     ]
    }
   ],
   "source": [
    "#wget https://github.com/WongKinYiu/yolov7/releases/download/v0.1/yolov7-tiny.pt\n",
    "%cd yolov7"
   ]
  },
  {
   "cell_type": "code",
   "execution_count": 16,
   "id": "fd959321",
   "metadata": {},
   "outputs": [
    {
     "name": "stdout",
     "output_type": "stream",
     "text": [
      "python: can't open file '/Users/nianaiyang/Downloads/pljs/yolov7/weights/detect.py': [Errno 2] No such file or directory\r\n"
     ]
    }
   ],
   "source": [
    "python detect.py --weights weights/yolov7-tiny.pt --source inference/images "
   ]
  },
  {
   "cell_type": "code",
   "execution_count": null,
   "id": "f75c2964",
   "metadata": {},
   "outputs": [],
   "source": []
  }
 ],
 "metadata": {
  "kernelspec": {
   "display_name": "Python [conda env:root] *",
   "language": "python",
   "name": "conda-root-py"
  },
  "language_info": {
   "codemirror_mode": {
    "name": "ipython",
    "version": 3
   },
   "file_extension": ".py",
   "mimetype": "text/x-python",
   "name": "python",
   "nbconvert_exporter": "python",
   "pygments_lexer": "ipython3",
   "version": "3.10.8"
  }
 },
 "nbformat": 4,
 "nbformat_minor": 5
}
